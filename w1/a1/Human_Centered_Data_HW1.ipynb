{
 "cells": [
  {
   "cell_type": "code",
   "execution_count": 1,
   "metadata": {},
   "outputs": [],
   "source": [
    "import json\n",
    "import requests"
   ]
  },
  {
   "cell_type": "markdown",
   "metadata": {},
   "source": [
    "$ \\Large Step1:$ Gathering the data"
   ]
  },
  {
   "cell_type": "markdown",
   "metadata": {},
   "source": [
    "In the following cell I access desktop and mobile traffic data from December 2007 through July 2016 (Legacy Pagecounts API) and desktop, mobile web, and mobile app traffic data from July 2015 through last month (Pageviews API)"
   ]
  },
  {
   "cell_type": "code",
   "execution_count": 2,
   "metadata": {},
   "outputs": [],
   "source": [
    "endpoint_legacy = 'https://wikimedia.org/api/rest_v1/metrics/legacy/pagecounts/aggregate/{project}/{access-site}/{granularity}/{start}/{end}'\n",
    "\n",
    "endpoint_pageviews_aggregate = 'https://wikimedia.org/api/rest_v1/metrics/pageviews/aggregate/{project}/{access}/{agent}/{granularity}/{start}/{end}'"
   ]
  },
  {
   "cell_type": "markdown",
   "metadata": {},
   "source": [
    "The following code chunk set the parameters that needs to be extracted from legacy and page count APIs. Desktop and mobile traffic data from December 2007 through July 2016 (Legacy Pagecounts API) and desktop, mobile web, and mobile app traffic data from July 2015 through last month. However, I set the date for all the parameters from December 2007 to September 2020 so if the data is not available for a certain date it won't be returned."
   ]
  },
  {
   "cell_type": "code",
   "execution_count": 3,
   "metadata": {},
   "outputs": [],
   "source": [
    "#monthly access from desktop_site trhough legacy\n",
    "legacy_desktop_site_params = {\"project\" : \"en.wikipedia.org\",\n",
    "                              \"access-site\" : \"desktop-site\",\n",
    "                              \"granularity\" : \"monthly\",\n",
    "                              \"start\" : \"2007120100\",\n",
    "                              \"end\" : \"2020090100\"\n",
    "                             }\n",
    "#monthly access from mobile-site through legacy\n",
    "legacy_mobile_site_params = {\"project\" : \"en.wikipedia.org\",\n",
    "                             \"access-site\" : \"mobile-site\",\n",
    "                             \"granularity\" : \"monthly\",\n",
    "                             \"start\" : \"2007120100\",\n",
    "                             \"end\" : \"2020090100\"\n",
    "                            }\n",
    "\n",
    "#monthly access from desktop through pagecounts\n",
    "pagecounts_desktop_params = {\"project\" : \"en.wikipedia.org\",\n",
    "                             \"access\" : \"desktop\",\n",
    "                             \"agent\" : \"user\",\n",
    "                             \"granularity\" : \"monthly\",\n",
    "                             \"start\" : \"2007120100\",\n",
    "                             \"end\" : '2020090100'\n",
    "                            }\n",
    "#monthly access from mobile app through pagecounts\n",
    "pagecounts_mobile_app_params = {\"project\" : \"en.wikipedia.org\",\n",
    "                                \"access\" : \"mobile-app\",\n",
    "                                \"agent\" : \"user\",\n",
    "                                \"granularity\" : \"monthly\",\n",
    "                                \"start\" : \"2007120100\",\n",
    "                                \"end\" : '2020090100'\n",
    "                               }\n",
    "#monthly access from mobile-web app through pagecounts\n",
    "pagecounts_mobile_web_params = {\"project\" : \"en.wikipedia.org\",\n",
    "                                \"access\" : \"mobile-web\",\n",
    "                                \"agent\" : \"user\",\n",
    "                                \"granularity\" : \"monthly\",\n",
    "                                \"start\" : \"2007120100\",\n",
    "                                \"end\" : '2020090100'\n",
    "                               }\n",
    "\n",
    "# Customize these with your own information\n",
    "headers = {\n",
    "    'User-Agent': 'https://github.com/yourusername',\n",
    "    'From': 'youremail@uw.edu'\n",
    "}"
   ]
  },
  {
   "cell_type": "markdown",
   "metadata": {},
   "source": [
    "The following function (api_call) takes two parameters. The first parameter gets the API and the second paramer gets the parameter that were designed to be extracted."
   ]
  },
  {
   "cell_type": "code",
   "execution_count": 4,
   "metadata": {},
   "outputs": [],
   "source": [
    "def api_call(endpoint,parameters):\n",
    "    call = requests.get(endpoint.format(**parameters), headers=headers)\n",
    "    response = call.json()\n",
    "    \n",
    "    return response"
   ]
  },
  {
   "cell_type": "markdown",
   "metadata": {},
   "source": [
    "The following code call \"api_call\" function to extract the data from legacy and mobile site"
   ]
  },
  {
   "cell_type": "code",
   "execution_count": 5,
   "metadata": {},
   "outputs": [],
   "source": [
    "# Legacy data\n",
    "legacy_desktop_site = api_call(endpoint_legacy, legacy_desktop_site_params)\n",
    "legacy_mobile_site  = api_call(endpoint_legacy, legacy_mobile_site_params)\n",
    "\n",
    "# Pageview data\n",
    "pageview_desktop    = api_call(endpoint_pageviews_aggregate, pagecounts_desktop_params)\n",
    "pageview_mobile_app = api_call(endpoint_pageviews_aggregate, pagecounts_mobile_app_params)\n",
    "pageview_mobile_web = api_call(endpoint_pageviews_aggregate, pagecounts_mobile_web_params)"
   ]
  },
  {
   "cell_type": "markdown",
   "metadata": {},
   "source": [
    "5 json file will be written based on the calls in the previous cell."
   ]
  },
  {
   "cell_type": "code",
   "execution_count": 6,
   "metadata": {},
   "outputs": [],
   "source": [
    "# Write data to files\n",
    "f = open(\"/Users/sdibay/Desktop/Data Science/Human_Centered/pagecounts_desktop-site_200712-202008.json\", \"w\")\n",
    "f.write(json.dumps(legacy_desktop_site, indent=4))\n",
    "f.close()\n",
    "\n",
    "f = open(\"/Users/sdibay/Desktop/Data Science/Human_Centered/pagecounts_mobile-site-200712-202008.json\", \"w\")\n",
    "f.write(json.dumps(legacy_mobile_site, indent=4))\n",
    "f.close()\n",
    "\n",
    "f = open(\"/Users/sdibay/Desktop/Data Science/Human_Centered/pageviews_desktop_200712-202008.json\", \"w\")\n",
    "f.write(json.dumps(pageview_desktop, indent=4))\n",
    "f.close()\n",
    "\n",
    "f = open(\"/Users/sdibay/Desktop/Data Science/Human_Centered/pageviews_mobile-app_200712-202008.json\", \"w\")\n",
    "f.write(json.dumps(pageview_mobile_app, indent=4))\n",
    "f.close()\n",
    "\n",
    "\n",
    "f = open(\"/Users/sdibay/Desktop/Data Science/Human_Centered/pageviews_mobile-web_200712-202008.json\", \"w\")\n",
    "f.write(json.dumps(pageview_mobile_web, indent=4))\n",
    "f.close()\n"
   ]
  },
  {
   "cell_type": "markdown",
   "metadata": {},
   "source": [
    "$ \\Large Step 2:$ Processing the data"
   ]
  },
  {
   "cell_type": "markdown",
   "metadata": {},
   "source": [
    "The following function (export_to_csv) is written to convert the json files to CSV files"
   ]
  },
  {
   "cell_type": "code",
   "execution_count": 7,
   "metadata": {},
   "outputs": [],
   "source": [
    "import csv  \n",
    "\n",
    "def export_to_csv(json, filename, input_count_key_name, output_count_key_name):\n",
    "    # field names  \n",
    "    headers = ['year', 'month', output_count_key_name]\n",
    "\n",
    "    # writing to csv file  \n",
    "    with open(filename, 'w') as csvfile:  \n",
    "        # creating a csv writer object  \n",
    "        csvwriter = csv.writer(csvfile)  \n",
    "        \n",
    "        # write the headers  \n",
    "        csvwriter.writerow(headers)\n",
    "    \n",
    "        # write the data rows\n",
    "        for item in json['items']:\n",
    "            year  = item['timestamp'][0:4]\n",
    "            month = item['timestamp'][4:6]\n",
    "            count = item[input_count_key_name]\n",
    "            csvwriter.writerow([year,month,count])"
   ]
  },
  {
   "cell_type": "markdown",
   "metadata": {},
   "source": [
    "By calling export_to_csv for 5 times, 5 CVS files will be created."
   ]
  },
  {
   "cell_type": "code",
   "execution_count": 8,
   "metadata": {},
   "outputs": [],
   "source": [
    "export_to_csv(legacy_desktop_site, \"/Users/sdibay/Desktop/Data Science/Human_Centered/legacy_desktop_site.csv\",\"count\",\"pagecount_desktop_views\")\n",
    "export_to_csv(legacy_mobile_site, \"/Users/sdibay/Desktop/Data Science/Human_Centered/legacy_mobile_site.csv\",\"count\",\"pagecount_mobile_views\")\n",
    "export_to_csv(pageview_desktop, \"/Users/sdibay/Desktop/Data Science/Human_Centered/pageview_desktop.csv\",\"views\",\"pageview_desktop_views\")\n",
    "export_to_csv(pageview_mobile_app, \"/Users/sdibay/Desktop/Data Science/Human_Centered/pageview_mobile_app.csv\",\"views\",\"pageview_mobile_app_views\")\n",
    "export_to_csv(pageview_mobile_web, \"/Users/sdibay/Desktop/Data Science/Human_Centered/pageview_mobile_web.csv\",\"views\",\"pageview_mobile_web_views\")"
   ]
  },
  {
   "cell_type": "markdown",
   "metadata": {},
   "source": [
    "The following code are to read each CVS files I created in the previous cell."
   ]
  },
  {
   "cell_type": "code",
   "execution_count": 9,
   "metadata": {},
   "outputs": [],
   "source": [
    "import pandas as pd\n",
    "import numpy as np\n",
    "df = pd.read_csv('legacy_desktop_site.csv')\n",
    "dc = pd.read_csv('legacy_mobile_site.csv')\n",
    "dg = pd.read_csv('pageview_desktop.csv')\n",
    "dj = pd.read_csv('pageview_mobile_app.csv')\n",
    "dh = pd.read_csv('pageview_mobile_web.csv')"
   ]
  },
  {
   "cell_type": "markdown",
   "metadata": {},
   "source": [
    "I am combining all 5 CSV files in the following code chunk and call"
   ]
  },
  {
   "cell_type": "code",
   "execution_count": 10,
   "metadata": {},
   "outputs": [],
   "source": [
    "res = df.merge(dc, on=['year','month'], how='outer')\n",
    "res_two = res.merge(dg, on=['year','month'], how='outer')\n",
    "res_three = res_two.merge(dj, on=['year','month'], how='outer')\n",
    "res_four = res_three.merge(dh,on=['year','month'], how='outer')\n",
    "res_four.to_csv(\"en-wikipedia_traffic_200712-202009.csv\", index=False)"
   ]
  },
  {
   "cell_type": "markdown",
   "metadata": {},
   "source": [
    "Reading the one excel file I created from combining 5 excel files. Aslo I am showing headers."
   ]
  },
  {
   "cell_type": "code",
   "execution_count": 11,
   "metadata": {},
   "outputs": [
    {
     "data": {
      "text/html": [
       "<div>\n",
       "<style scoped>\n",
       "    .dataframe tbody tr th:only-of-type {\n",
       "        vertical-align: middle;\n",
       "    }\n",
       "\n",
       "    .dataframe tbody tr th {\n",
       "        vertical-align: top;\n",
       "    }\n",
       "\n",
       "    .dataframe thead th {\n",
       "        text-align: right;\n",
       "    }\n",
       "</style>\n",
       "<table border=\"1\" class=\"dataframe\">\n",
       "  <thead>\n",
       "    <tr style=\"text-align: right;\">\n",
       "      <th></th>\n",
       "      <th>year</th>\n",
       "      <th>month</th>\n",
       "      <th>pagecount_desktop_views</th>\n",
       "      <th>pagecount_mobile_views</th>\n",
       "      <th>pageview_desktop_views</th>\n",
       "      <th>pageview_mobile_app_views</th>\n",
       "      <th>pageview_mobile_web_views</th>\n",
       "    </tr>\n",
       "  </thead>\n",
       "  <tbody>\n",
       "    <tr>\n",
       "      <th>0</th>\n",
       "      <td>2007</td>\n",
       "      <td>12</td>\n",
       "      <td>2.998332e+09</td>\n",
       "      <td>NaN</td>\n",
       "      <td>NaN</td>\n",
       "      <td>NaN</td>\n",
       "      <td>NaN</td>\n",
       "    </tr>\n",
       "    <tr>\n",
       "      <th>1</th>\n",
       "      <td>2008</td>\n",
       "      <td>1</td>\n",
       "      <td>4.930903e+09</td>\n",
       "      <td>NaN</td>\n",
       "      <td>NaN</td>\n",
       "      <td>NaN</td>\n",
       "      <td>NaN</td>\n",
       "    </tr>\n",
       "    <tr>\n",
       "      <th>2</th>\n",
       "      <td>2008</td>\n",
       "      <td>2</td>\n",
       "      <td>4.818394e+09</td>\n",
       "      <td>NaN</td>\n",
       "      <td>NaN</td>\n",
       "      <td>NaN</td>\n",
       "      <td>NaN</td>\n",
       "    </tr>\n",
       "    <tr>\n",
       "      <th>3</th>\n",
       "      <td>2008</td>\n",
       "      <td>3</td>\n",
       "      <td>4.955406e+09</td>\n",
       "      <td>NaN</td>\n",
       "      <td>NaN</td>\n",
       "      <td>NaN</td>\n",
       "      <td>NaN</td>\n",
       "    </tr>\n",
       "    <tr>\n",
       "      <th>4</th>\n",
       "      <td>2008</td>\n",
       "      <td>4</td>\n",
       "      <td>5.159162e+09</td>\n",
       "      <td>NaN</td>\n",
       "      <td>NaN</td>\n",
       "      <td>NaN</td>\n",
       "      <td>NaN</td>\n",
       "    </tr>\n",
       "  </tbody>\n",
       "</table>\n",
       "</div>"
      ],
      "text/plain": [
       "   year  month  pagecount_desktop_views  pagecount_mobile_views  \\\n",
       "0  2007     12             2.998332e+09                     NaN   \n",
       "1  2008      1             4.930903e+09                     NaN   \n",
       "2  2008      2             4.818394e+09                     NaN   \n",
       "3  2008      3             4.955406e+09                     NaN   \n",
       "4  2008      4             5.159162e+09                     NaN   \n",
       "\n",
       "   pageview_desktop_views  pageview_mobile_app_views  \\\n",
       "0                     NaN                        NaN   \n",
       "1                     NaN                        NaN   \n",
       "2                     NaN                        NaN   \n",
       "3                     NaN                        NaN   \n",
       "4                     NaN                        NaN   \n",
       "\n",
       "   pageview_mobile_web_views  \n",
       "0                        NaN  \n",
       "1                        NaN  \n",
       "2                        NaN  \n",
       "3                        NaN  \n",
       "4                        NaN  "
      ]
     },
     "execution_count": 11,
     "metadata": {},
     "output_type": "execute_result"
    }
   ],
   "source": [
    "a = pd.read_csv(\"/Users/sdibay/Desktop/Data Science/Human_Centered/en-wikipedia_traffic_200712-202009.csv\")\n",
    "data_top = a.head()\n",
    "data_top"
   ]
  },
  {
   "cell_type": "code",
   "execution_count": 12,
   "metadata": {},
   "outputs": [
    {
     "data": {
      "text/html": [
       "<div>\n",
       "<style scoped>\n",
       "    .dataframe tbody tr th:only-of-type {\n",
       "        vertical-align: middle;\n",
       "    }\n",
       "\n",
       "    .dataframe tbody tr th {\n",
       "        vertical-align: top;\n",
       "    }\n",
       "\n",
       "    .dataframe thead th {\n",
       "        text-align: right;\n",
       "    }\n",
       "</style>\n",
       "<table border=\"1\" class=\"dataframe\">\n",
       "  <thead>\n",
       "    <tr style=\"text-align: right;\">\n",
       "      <th></th>\n",
       "      <th>year</th>\n",
       "      <th>month</th>\n",
       "      <th>pagecount_desktop_views</th>\n",
       "      <th>pagecount_mobile_views</th>\n",
       "      <th>pageview_desktop_views</th>\n",
       "      <th>pageview_mobile_app_views</th>\n",
       "      <th>pageview_mobile_web_views</th>\n",
       "    </tr>\n",
       "  </thead>\n",
       "  <tbody>\n",
       "    <tr>\n",
       "      <th>0</th>\n",
       "      <td>2007</td>\n",
       "      <td>12</td>\n",
       "      <td>2.998332e+09</td>\n",
       "      <td>0.0</td>\n",
       "      <td>0.0</td>\n",
       "      <td>0.0</td>\n",
       "      <td>0.0</td>\n",
       "    </tr>\n",
       "    <tr>\n",
       "      <th>1</th>\n",
       "      <td>2008</td>\n",
       "      <td>1</td>\n",
       "      <td>4.930903e+09</td>\n",
       "      <td>0.0</td>\n",
       "      <td>0.0</td>\n",
       "      <td>0.0</td>\n",
       "      <td>0.0</td>\n",
       "    </tr>\n",
       "    <tr>\n",
       "      <th>2</th>\n",
       "      <td>2008</td>\n",
       "      <td>2</td>\n",
       "      <td>4.818394e+09</td>\n",
       "      <td>0.0</td>\n",
       "      <td>0.0</td>\n",
       "      <td>0.0</td>\n",
       "      <td>0.0</td>\n",
       "    </tr>\n",
       "    <tr>\n",
       "      <th>3</th>\n",
       "      <td>2008</td>\n",
       "      <td>3</td>\n",
       "      <td>4.955406e+09</td>\n",
       "      <td>0.0</td>\n",
       "      <td>0.0</td>\n",
       "      <td>0.0</td>\n",
       "      <td>0.0</td>\n",
       "    </tr>\n",
       "    <tr>\n",
       "      <th>4</th>\n",
       "      <td>2008</td>\n",
       "      <td>4</td>\n",
       "      <td>5.159162e+09</td>\n",
       "      <td>0.0</td>\n",
       "      <td>0.0</td>\n",
       "      <td>0.0</td>\n",
       "      <td>0.0</td>\n",
       "    </tr>\n",
       "  </tbody>\n",
       "</table>\n",
       "</div>"
      ],
      "text/plain": [
       "   year  month  pagecount_desktop_views  pagecount_mobile_views  \\\n",
       "0  2007     12             2.998332e+09                     0.0   \n",
       "1  2008      1             4.930903e+09                     0.0   \n",
       "2  2008      2             4.818394e+09                     0.0   \n",
       "3  2008      3             4.955406e+09                     0.0   \n",
       "4  2008      4             5.159162e+09                     0.0   \n",
       "\n",
       "   pageview_desktop_views  pageview_mobile_app_views  \\\n",
       "0                     0.0                        0.0   \n",
       "1                     0.0                        0.0   \n",
       "2                     0.0                        0.0   \n",
       "3                     0.0                        0.0   \n",
       "4                     0.0                        0.0   \n",
       "\n",
       "   pageview_mobile_web_views  \n",
       "0                        0.0  \n",
       "1                        0.0  \n",
       "2                        0.0  \n",
       "3                        0.0  \n",
       "4                        0.0  "
      ]
     },
     "execution_count": 12,
     "metadata": {},
     "output_type": "execute_result"
    }
   ],
   "source": [
    "a = a.replace(np.nan, 0)\n",
    "data_top = a.head()\n",
    "data_top"
   ]
  },
  {
   "cell_type": "markdown",
   "metadata": {},
   "source": [
    "1- combining pageview_mobile_app_views and pageview_mobile_web_views to create \"pageview_mobile_views\" column\n",
    "2- combining pagecount_desktop_views and pagecount_mobile_views to create \"pagecount_all_views\"\n",
    "3- combining pageview_mobile_views and pageview_desktop_views to create \"pageview_all_views\""
   ]
  },
  {
   "cell_type": "code",
   "execution_count": 13,
   "metadata": {},
   "outputs": [],
   "source": [
    "#1 pageview_mobile_views \n",
    "pageview_mobile_views = a[\"pageview_mobile_app_views\"] + a[\"pageview_mobile_web_views\"]\n",
    "a[\"pageview_mobile_views\"] = pageview_mobile_views\n",
    "\n",
    "#2 pagecount_all_views\n",
    "pagecount_all_views =a[\"pagecount_desktop_views\"]+ a[\"pagecount_mobile_views\"]\n",
    "a[\"pagecount_all_views\"] = pagecount_all_views\n",
    "\n",
    "pageview_all_views = a[\"pageview_mobile_views\"]+a[\"pageview_desktop_views\"]\n",
    "a[\"pageview_all_views\"]= pageview_all_views \n",
    "\n",
    "#replacing all the NAs with zero to cover NAs in three new variables\n",
    "a = a.replace(np.nan, 0)\n"
   ]
  },
  {
   "cell_type": "markdown",
   "metadata": {},
   "source": [
    "Dropping pageview_mobile_web_views and pageview_mobile_app_views columns"
   ]
  },
  {
   "cell_type": "code",
   "execution_count": 14,
   "metadata": {},
   "outputs": [],
   "source": [
    "a = a.drop([\"pageview_mobile_web_views\", \"pageview_mobile_app_views\"], axis = 1) "
   ]
  },
  {
   "cell_type": "markdown",
   "metadata": {},
   "source": [
    "Creating final single CSV document with the following variables:\n",
    "year, month, pagecount_desktop_views, pagecount_mobile_views,pageview_mobile_app_views,"
   ]
  },
  {
   "cell_type": "code",
   "execution_count": 15,
   "metadata": {},
   "outputs": [],
   "source": [
    "a.to_csv(\"en-wikipedia_traffic_200712-202009.csv\", index=False)"
   ]
  },
  {
   "cell_type": "markdown",
   "metadata": {},
   "source": [
    "$ \\Large Step 3:$ Analyze the data"
   ]
  },
  {
   "cell_type": "markdown",
   "metadata": {},
   "source": [
    "Plotting the variables for all the years from December 2007 to September 2020"
   ]
  },
  {
   "cell_type": "code",
   "execution_count": 16,
   "metadata": {},
   "outputs": [],
   "source": [
    "import matplotlib.pyplot as plt"
   ]
  },
  {
   "cell_type": "code",
   "execution_count": 17,
   "metadata": {},
   "outputs": [],
   "source": [
    "# b = (a.set_index(a.year.astype(str)+\"-\"+a.month.astype(str).str.zfill(2))\n",
    "#       .drop(['month','year'],axis=1))"
   ]
  },
  {
   "cell_type": "code",
   "execution_count": 18,
   "metadata": {},
   "outputs": [],
   "source": [
    "a = a.set_index(['year', 'month'])\n",
    "a.sort_index(inplace=True)"
   ]
  },
  {
   "cell_type": "code",
   "execution_count": 29,
   "metadata": {},
   "outputs": [
    {
     "data": {
      "image/png": "[encoded data removed]",
      "text/plain": [
       "<Figure size 864x576 with 1 Axes>"
      ]
     },
     "metadata": {
      "needs_background": "light"
     },
     "output_type": "display_data"
    }
   ],
   "source": [
    "a = a.replace({0:np.nan})\n",
    "a.plot(kind='line', figsize=(12,8), title=\"Monthly Page Views on English Wikipedia (x 10,000,000,000)\")\n",
    "\n",
    "plt.figtext(0.5, 0.01, \"A new page view definition tool effect on May 2015. This change eliminated all crawler traffic. Red, green and brown mark new definition.\", ha=\"center\", fontsize=8, bbox={\"facecolor\":\"orange\", \"alpha\":0.5, \"pad\":5})\n",
    "img = plt.gcf()"
   ]
  },
  {
   "cell_type": "markdown",
   "metadata": {},
   "source": [
    "Saving the image"
   ]
  },
  {
   "cell_type": "code",
   "execution_count": 31,
   "metadata": {},
   "outputs": [],
   "source": [
    "img.savefig('EN_Wikepedia_Views.png', dpi=300,quality=90)"
   ]
  },
  {
   "cell_type": "code",
   "execution_count": null,
   "metadata": {},
   "outputs": [],
   "source": []
  }
 ],
 "metadata": {
  "kernelspec": {
   "display_name": "Python 3",
   "language": "python",
   "name": "python3"
  },
  "language_info": {
   "codemirror_mode": {
    "name": "ipython",
    "version": 3
   },
   "file_extension": ".py",
   "mimetype": "text/x-python",
   "name": "python",
   "nbconvert_exporter": "python",
   "pygments_lexer": "ipython3",
   "version": "3.7.0"
  }
 },
 "nbformat": 4,
 "nbformat_minor": 4
}
